{
 "cells": [
  {
   "cell_type": "markdown",
   "metadata": {},
   "source": [
    "Make conf files for HMP spacegraphcats queries"
   ]
  },
  {
   "cell_type": "code",
   "execution_count": 1,
   "metadata": {},
   "outputs": [],
   "source": [
    "import yaml\n",
    "import io"
   ]
  },
  {
   "cell_type": "markdown",
   "metadata": {},
   "source": [
    "Example conf file\n",
    "\n",
    "```\n",
    "catlas_base: MSM79H58\n",
    "input_sequences:\n",
    "- fastq/MSM79H58.fastq.gz\n",
    "ksize: 31\n",
    "radius: 1\n",
    "search:\n",
    "- ~/github/spacegraphcats/data/2.fa.gz\n",
    "searchquick:\n",
    "- ~/github/spacegraphcats/data/63.fa.gz\n",
    "\n",
    "hashval_ksize: 51\n",
    "hashval_queries: ../calc_cosmo_kmers/hmp_scaled2k_th138.labels.txt\n",
    "```"
   ]
  },
  {
   "cell_type": "code",
   "execution_count": 2,
   "metadata": {},
   "outputs": [],
   "source": [
    "samples = [line.rstrip('\\n') for line in open(\"../inputs/samples.txt\")]"
   ]
  },
  {
   "cell_type": "code",
   "execution_count": 3,
   "metadata": {},
   "outputs": [],
   "source": [
    "for sample in samples:\n",
    "    yml = {'catlas_base': sample,\n",
    "           'input_sequences': ['inputs/data/' + sample + 'fastq.gz'],\n",
    "           'ksize': 31, \n",
    "           'radius': 1,\n",
    "           'search': ['dummy.fa'],\n",
    "           'searchquck': ['dummy.fa'],\n",
    "           'hashval_ksize': 51,\n",
    "           'hashval_queries': 'outputs/cosmo/hmp_2k_t138_mtx.labels.txt'}\n",
    "    with io.open(\"../inputs/conf/\" + sample + '_r1_conf.yml', 'w', encoding='utf8') as outfile:\n",
    "        yaml.dump(yml, outfile, default_flow_style=False, allow_unicode=True, sort_keys=False)"
   ]
  },
  {
   "cell_type": "code",
   "execution_count": 4,
   "metadata": {},
   "outputs": [],
   "source": [
    "for sample in samples:\n",
    "    yml = {'catlas_base': sample,\n",
    "           'input_sequences': ['inputs/data/' + sample + 'fastq.gz'],\n",
    "           'ksize': 31, \n",
    "           'radius': 10,\n",
    "           'search': ['dummy.fa'],\n",
    "           'searchquck': ['dummy.fa'],\n",
    "           'hashval_ksize': 51,\n",
    "           'hashval_queries': 'outputs/cosmo/hmp_2k_t138_mtx.labels.txt'}\n",
    "    with io.open(\"../inputs/conf/\" + sample + '_r10_conf.yml', 'w', encoding='utf8') as outfile:\n",
    "        yaml.dump(yml, outfile, default_flow_style=False, allow_unicode=True, sort_keys=False)"
   ]
  }
 ],
 "metadata": {
  "kernelspec": {
   "display_name": "Python 3",
   "language": "python",
   "name": "python3"
  },
  "language_info": {
   "codemirror_mode": {
    "name": "ipython",
    "version": 3
   },
   "file_extension": ".py",
   "mimetype": "text/x-python",
   "name": "python",
   "nbconvert_exporter": "python",
   "pygments_lexer": "ipython3",
   "version": "3.6.0"
  }
 },
 "nbformat": 4,
 "nbformat_minor": 2
}
